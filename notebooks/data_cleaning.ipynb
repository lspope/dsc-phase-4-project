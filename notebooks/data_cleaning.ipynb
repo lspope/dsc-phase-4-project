{
 "metadata": {
  "language_info": {
   "codemirror_mode": {
    "name": "ipython",
    "version": 3
   },
   "file_extension": ".py",
   "mimetype": "text/x-python",
   "name": "python",
   "nbconvert_exporter": "python",
   "pygments_lexer": "ipython3",
   "version": "3.6.9-final"
  },
  "orig_nbformat": 2,
  "kernelspec": {
   "name": "Python 3.6.9 64-bit ('flatiron': conda)",
   "display_name": "Python 3.6.9 64-bit ('flatiron': conda)",
   "metadata": {
    "interpreter": {
     "hash": "4535bfad872b0023e1fa85bd7b3c83a64ea39ab51ed0133218ea0a816c02d554"
    }
   }
  }
 },
 "nbformat": 4,
 "nbformat_minor": 2,
 "cells": [
  {
   "cell_type": "markdown",
   "metadata": {},
   "source": [
    "# Data Cleaning Notebook"
   ]
  },
  {
   "cell_type": "code",
   "execution_count": 20,
   "metadata": {},
   "outputs": [],
   "source": [
    "# Import the required libraries\n",
    "import pandas as pd\n",
    "import numpy as np\n"
   ]
  },
  {
   "cell_type": "code",
   "execution_count": 21,
   "metadata": {},
   "outputs": [],
   "source": [
    "# Functions for data cleaning\n",
    "\n",
    "\n",
    "#  Functions for Duplicate checks \n",
    "def get_exact_dups(df):\n",
    "    dups = df[df.duplicated()]\n",
    "    return dups\n",
    "\n",
    "def get_tweet_text_dups(df, col_names):\n",
    "    dups = df[df.duplicated(subset=col_names)]\n",
    "    return dups\n",
    "\n"
   ]
  },
  {
   "cell_type": "code",
   "execution_count": 22,
   "metadata": {},
   "outputs": [
    {
     "output_type": "execute_result",
     "data": {
      "text/plain": [
       "(8721, 3)"
      ]
     },
     "metadata": {},
     "execution_count": 22
    }
   ],
   "source": [
    "raw_data = pd.read_csv('../data/crowdflower-brands-and-product-emotions/data/judge_1377884607_tweet_product_company.csv')\n",
    "\n",
    "raw_data.shape"
   ]
  },
  {
   "cell_type": "code",
   "execution_count": 23,
   "metadata": {},
   "outputs": [
    {
     "output_type": "execute_result",
     "data": {
      "text/plain": [
       "                                          tweet_text  \\\n",
       "0  .@wesley83 I have a 3G iPhone. After 3 hrs twe...   \n",
       "1  @jessedee Know about @fludapp ? Awesome iPad/i...   \n",
       "2  @swonderlin Can not wait for #iPad 2 also. The...   \n",
       "\n",
       "  emotion_in_tweet_is_directed_at  \\\n",
       "0                          iPhone   \n",
       "1              iPad or iPhone App   \n",
       "2                            iPad   \n",
       "\n",
       "  is_there_an_emotion_directed_at_a_brand_or_product  \n",
       "0                                   Negative emotion  \n",
       "1                                   Positive emotion  \n",
       "2                                   Positive emotion  "
      ],
      "text/html": "<div>\n<style scoped>\n    .dataframe tbody tr th:only-of-type {\n        vertical-align: middle;\n    }\n\n    .dataframe tbody tr th {\n        vertical-align: top;\n    }\n\n    .dataframe thead th {\n        text-align: right;\n    }\n</style>\n<table border=\"1\" class=\"dataframe\">\n  <thead>\n    <tr style=\"text-align: right;\">\n      <th></th>\n      <th>tweet_text</th>\n      <th>emotion_in_tweet_is_directed_at</th>\n      <th>is_there_an_emotion_directed_at_a_brand_or_product</th>\n    </tr>\n  </thead>\n  <tbody>\n    <tr>\n      <th>0</th>\n      <td>.@wesley83 I have a 3G iPhone. After 3 hrs twe...</td>\n      <td>iPhone</td>\n      <td>Negative emotion</td>\n    </tr>\n    <tr>\n      <th>1</th>\n      <td>@jessedee Know about @fludapp ? Awesome iPad/i...</td>\n      <td>iPad or iPhone App</td>\n      <td>Positive emotion</td>\n    </tr>\n    <tr>\n      <th>2</th>\n      <td>@swonderlin Can not wait for #iPad 2 also. The...</td>\n      <td>iPad</td>\n      <td>Positive emotion</td>\n    </tr>\n  </tbody>\n</table>\n</div>"
     },
     "metadata": {},
     "execution_count": 23
    }
   ],
   "source": [
    "raw_data.head(3)"
   ]
  },
  {
   "cell_type": "markdown",
   "metadata": {},
   "source": [
    "## Original Data Column Descriptions\n",
    "\n",
    "* tweet_text - Text/content of the Tweet\n",
    "* emotion_in_tweet_is_directed_at - Brand/Product Category (Apple Product or Google Product)\n",
    "* is_there_an_emotion_directed_at_a_brand_or_product - Human labeled emotion/sentiment of the Tweet text, Positive/Negative/Neutral\n",
    "\n",
    "\n",
    "### Make a deep copy of the original data and rename the columns for readablilty/ease of typing\n",
    "\n",
    "## Renamed Data columns\n",
    "* tweet_text \n",
    "* brand_or_product\n",
    "* emotion"
   ]
  },
  {
   "cell_type": "code",
   "execution_count": 24,
   "metadata": {},
   "outputs": [],
   "source": [
    "# Make a deep copy before any data cleaning (Deep copy has own copy of data and index)\n",
    "processed_data = raw_data.copy(deep=True)"
   ]
  },
  {
   "cell_type": "code",
   "execution_count": 25,
   "metadata": {},
   "outputs": [
    {
     "output_type": "execute_result",
     "data": {
      "text/plain": [
       "                                          tweet_text labeled_brand_or_product  \\\n",
       "0  .@wesley83 I have a 3G iPhone. After 3 hrs twe...                   iPhone   \n",
       "\n",
       "   detected_emotion  \n",
       "0  Negative emotion  "
      ],
      "text/html": "<div>\n<style scoped>\n    .dataframe tbody tr th:only-of-type {\n        vertical-align: middle;\n    }\n\n    .dataframe tbody tr th {\n        vertical-align: top;\n    }\n\n    .dataframe thead th {\n        text-align: right;\n    }\n</style>\n<table border=\"1\" class=\"dataframe\">\n  <thead>\n    <tr style=\"text-align: right;\">\n      <th></th>\n      <th>tweet_text</th>\n      <th>labeled_brand_or_product</th>\n      <th>detected_emotion</th>\n    </tr>\n  </thead>\n  <tbody>\n    <tr>\n      <th>0</th>\n      <td>.@wesley83 I have a 3G iPhone. After 3 hrs twe...</td>\n      <td>iPhone</td>\n      <td>Negative emotion</td>\n    </tr>\n  </tbody>\n</table>\n</div>"
     },
     "metadata": {},
     "execution_count": 25
    }
   ],
   "source": [
    "# Rename those verbose columns!\n",
    "processed_data.rename(columns={'emotion_in_tweet_is_directed_at': 'labeled_brand_or_product', 'is_there_an_emotion_directed_at_a_brand_or_product': 'detected_emotion'}, inplace=True)\n",
    "processed_data.head(1)"
   ]
  },
  {
   "cell_type": "markdown",
   "metadata": {},
   "source": [
    "## Data cleaning steps:\n",
    "* __Duplicate check/ Duplicate handling__ \n",
    "\n",
    "* __Null check/Null handling__\n",
    "\n",
    "* __Data type conversion__"
   ]
  },
  {
   "cell_type": "code",
   "execution_count": 26,
   "metadata": {},
   "outputs": [
    {
     "output_type": "stream",
     "name": "stdout",
     "text": [
      "22\n"
     ]
    }
   ],
   "source": [
    "# Duplicate check and handling\n",
    "\n",
    "# We do have EXACT duplicates?\n",
    "exact_dups = get_exact_dups(processed_data)\n",
    "print(len(exact_dups))\n",
    "\n",
    "# Drop 'em\n",
    "processed_data.drop_duplicates(inplace=True)"
   ]
  },
  {
   "cell_type": "code",
   "execution_count": 27,
   "metadata": {},
   "outputs": [
    {
     "output_type": "stream",
     "name": "stdout",
     "text": [
      "5\n"
     ]
    },
    {
     "output_type": "display_data",
     "data": {
      "text/plain": "                                             tweet_text  \\\n3628           Win free ipad 2 from webdoc.com #sxsw RT   \n3629           Win free iPad 2 from webdoc.com #sxsw RT   \n6063  RT @mention Marissa Mayer: Google Will Connect...   \n6064  RT @mention Marissa Mayer: Google Will Connect...   \n6345  RT @mention RT @mention It's not a rumor: Appl...   \n\n     labeled_brand_or_product                    detected_emotion  \n3628                     iPad                    Positive emotion  \n3629                     iPad                    Positive emotion  \n6063                      NaN  No emotion toward brand or product  \n6064                      NaN  No emotion toward brand or product  \n6345                      NaN  No emotion toward brand or product  ",
      "text/html": "<div>\n<style scoped>\n    .dataframe tbody tr th:only-of-type {\n        vertical-align: middle;\n    }\n\n    .dataframe tbody tr th {\n        vertical-align: top;\n    }\n\n    .dataframe thead th {\n        text-align: right;\n    }\n</style>\n<table border=\"1\" class=\"dataframe\">\n  <thead>\n    <tr style=\"text-align: right;\">\n      <th></th>\n      <th>tweet_text</th>\n      <th>labeled_brand_or_product</th>\n      <th>detected_emotion</th>\n    </tr>\n  </thead>\n  <tbody>\n    <tr>\n      <th>3628</th>\n      <td>Win free ipad 2 from webdoc.com #sxsw RT</td>\n      <td>iPad</td>\n      <td>Positive emotion</td>\n    </tr>\n    <tr>\n      <th>3629</th>\n      <td>Win free iPad 2 from webdoc.com #sxsw RT</td>\n      <td>iPad</td>\n      <td>Positive emotion</td>\n    </tr>\n    <tr>\n      <th>6063</th>\n      <td>RT @mention Marissa Mayer: Google Will Connect...</td>\n      <td>NaN</td>\n      <td>No emotion toward brand or product</td>\n    </tr>\n    <tr>\n      <th>6064</th>\n      <td>RT @mention Marissa Mayer: Google Will Connect...</td>\n      <td>NaN</td>\n      <td>No emotion toward brand or product</td>\n    </tr>\n    <tr>\n      <th>6345</th>\n      <td>RT @mention RT @mention It's not a rumor: Appl...</td>\n      <td>NaN</td>\n      <td>No emotion toward brand or product</td>\n    </tr>\n  </tbody>\n</table>\n</div>"
     },
     "metadata": {}
    },
    {
     "output_type": "stream",
     "name": "stdout",
     "text": [
      "['Win free ipad 2 from webdoc.com #sxsw RT'\n 'Win free iPad 2 from webdoc.com #sxsw RT'\n 'RT @mention Marissa Mayer: Google Will Connect the Digital &amp; Physical Worlds Through Mobile - {link} #sxsw'\n 'RT @mention Marissa Mayer: Google Will Connect the Digital &amp; Physical Worlds Through Mobile - {link} #SXSW'\n \"RT @mention RT @mention It's not a rumor: Apple is opening up a temporary store in downtown Austin for #SXSW and the iPad 2 launch {link}\"]\n"
     ]
    }
   ],
   "source": [
    "# Do we have duplicated tweet texts?\n",
    "tweet_dups = get_tweet_text_dups(processed_data, ['tweet_text'])\n",
    "print(len(tweet_dups))\n",
    "\n",
    "# Yes!  What is going on here?\n",
    "display(tweet_dups)\n",
    "\n",
    "print(tweet_dups['tweet_text'].unique())"
   ]
  },
  {
   "cell_type": "code",
   "execution_count": 28,
   "metadata": {},
   "outputs": [
    {
     "output_type": "execute_result",
     "data": {
      "text/plain": [
       "'\\nIt looks like pandas is doing something interesting with checking for duplicate text values.\\n\\n3628 and 3629 have ALL the same words but a small difference in case (ipad vs iPad)\\n6063, 6064 have ALL the same words but a small difference in case (#sxsw vs #SXSW)\\n6345 - Not sure why this was returned as a duplicate. Will keep it. \\n\\nOverall- there are very few duplicated tweets.  Just keep them all.\\n'"
      ]
     },
     "metadata": {},
     "execution_count": 28
    }
   ],
   "source": [
    "'''\n",
    "It looks like pandas is doing something interesting with checking for duplicate text values.\n",
    "\n",
    "3628 and 3629 have ALL the same words but a small difference in case (ipad vs iPad)\n",
    "6063, 6064 have ALL the same words but a small difference in case (#sxsw vs #SXSW)\n",
    "6345 - Not sure why this was returned as a duplicate. Will keep it. \n",
    "\n",
    "Overall- there are very few duplicated tweets.  Just keep them all.\n",
    "'''\n"
   ]
  },
  {
   "cell_type": "code",
   "execution_count": 29,
   "metadata": {},
   "outputs": [
    {
     "output_type": "display_data",
     "data": {
      "text/plain": "tweet_text                  0.000115\nlabeled_brand_or_product    0.636740\ndetected_emotion            0.000000\ndtype: float64"
     },
     "metadata": {}
    }
   ],
   "source": [
    "# Null checks\n",
    "\n",
    "# What percentage of data is null?\n",
    "display(processed_data.isnull().mean())"
   ]
  },
  {
   "cell_type": "markdown",
   "metadata": {},
   "source": [
    "We have some null tweet_text values.  Drop these rows as we have to have text to classify.\n"
   ]
  },
  {
   "cell_type": "code",
   "execution_count": 32,
   "metadata": {},
   "outputs": [],
   "source": [
    "processed_data.dropna(subset=['tweet_text'],inplace=True)"
   ]
  },
  {
   "cell_type": "markdown",
   "metadata": {},
   "source": [
    "~64% of the brand_or_product data is null.  What to do? \n",
    "\n",
    "My text classifier will only be interested in postitive or negative sentiment on a product.\n",
    "\n",
    "Don't drop any rows. Fill the null with UNKNOWN for now."
   ]
  },
  {
   "cell_type": "code",
   "execution_count": 34,
   "metadata": {},
   "outputs": [
    {
     "output_type": "display_data",
     "data": {
      "text/plain": "tweet_text                  0.0\nlabeled_brand_or_product    0.0\ndetected_emotion            0.0\ndtype: float64"
     },
     "metadata": {}
    }
   ],
   "source": [
    "processed_data['labeled_brand_or_product'].fillna('UNKNOWN', inplace=True)\n",
    "display(processed_data.isnull().mean())"
   ]
  },
  {
   "cell_type": "code",
   "execution_count": 35,
   "metadata": {},
   "outputs": [],
   "source": [
    "# Data type conversion - make sure that tweet text is a string.... ran in issue with finding  a float value\n",
    "processed_data['tweet_text'] = processed_data['tweet_text'].astype(str)"
   ]
  },
  {
   "cell_type": "markdown",
   "metadata": {},
   "source": [
    "### New Column Creation\n",
    "* sentiment - Positive/Negative/Neutral based off of __detected_emotion__ column values.\n",
    "* brand - Apple/Google/UNKNOWN based off of __brand_or_product__column values.\n",
    "* tweet_char_count - Total number of character count in Tweet"
   ]
  },
  {
   "cell_type": "code",
   "execution_count": 36,
   "metadata": {},
   "outputs": [
    {
     "output_type": "stream",
     "name": "stdout",
     "text": [
      "['Negative emotion' 'Positive emotion'\n 'No emotion toward brand or product' \"I can't tell\"]\n['iPhone' 'iPad or iPhone App' 'iPad' 'Google' 'UNKNOWN' 'Android' 'Apple'\n 'Android App' 'Other Google product or service'\n 'Other Apple product or service']\n"
     ]
    }
   ],
   "source": [
    "# Create new cols based of existing values. What are the unique values we have to work with?\n",
    "print(processed_data['detected_emotion'].unique())\n",
    "print(processed_data['labeled_brand_or_product'].unique())\n"
   ]
  },
  {
   "cell_type": "code",
   "execution_count": 37,
   "metadata": {},
   "outputs": [],
   "source": [
    "# New column creation functions\n",
    "\n",
    "def get_sentiment(detected_emotion_str):\n",
    "    sentiment = 'Neutral'\n",
    "    if detected_emotion_str == 'Positive emotion':\n",
    "        sentiment = 'Positive'\n",
    "    elif detected_emotion_str == 'Negative emotion':\n",
    "        sentiment = 'Negative'\n",
    "    return sentiment\n",
    "\n",
    "def get_brand(labeled_brand_or_product_str, tweet_text_str):\n",
    "    brand = 'UNKNOWN'\n",
    "    if ((labeled_brand_or_product_str.lower().__contains__('google')) or (labeled_brand_or_product_str.lower().__contains__('android'))):\n",
    "        brand = 'Google'\n",
    "    elif ((labeled_brand_or_product_str.lower().__contains__('apple')) or (labeled_brand_or_product_str.lower().__contains__('ip'))):\n",
    "        brand = 'Apple'\n",
    "\n",
    "    # next level of trying detect brand if it was not labeled in the original data\n",
    "    # if both brand identifiers are in the tweet text...the first match (google) will be brand\n",
    "    if (brand == 'UNKNOWN'):\n",
    "        tweet_lc = tweet_text_str.lower()\n",
    "        has_google_identifiers = (tweet_lc.__contains__('google')) or (tweet_lc.lower().__contains__('android'))\n",
    "        has_apple_identifers = (tweet_lc.__contains__('apple')) or (tweet_lc.__contains__('ip'))\n",
    "\n",
    "        if (has_google_identifiers and has_apple_identifers):\n",
    "            brand ='BOTH'\n",
    "        elif (has_google_identifiers):\n",
    "            brand = 'Google'\n",
    "        elif (has_apple_identifers):\n",
    "            brand = 'Apple'\n",
    "\n",
    "    return brand\n",
    "\n",
    "def get_tweet_char_count(tweet_text_str):\n",
    "    return len(tweet_text_str.strip())"
   ]
  },
  {
   "cell_type": "code",
   "execution_count": 38,
   "metadata": {},
   "outputs": [
    {
     "output_type": "execute_result",
     "data": {
      "text/plain": [
       "                                          tweet_text labeled_brand_or_product  \\\n",
       "0  .@wesley83 I have a 3G iPhone. After 3 hrs twe...                   iPhone   \n",
       "1  @jessedee Know about @fludapp ? Awesome iPad/i...       iPad or iPhone App   \n",
       "\n",
       "   detected_emotion sentiment  \n",
       "0  Negative emotion  Negative  \n",
       "1  Positive emotion  Positive  "
      ],
      "text/html": "<div>\n<style scoped>\n    .dataframe tbody tr th:only-of-type {\n        vertical-align: middle;\n    }\n\n    .dataframe tbody tr th {\n        vertical-align: top;\n    }\n\n    .dataframe thead th {\n        text-align: right;\n    }\n</style>\n<table border=\"1\" class=\"dataframe\">\n  <thead>\n    <tr style=\"text-align: right;\">\n      <th></th>\n      <th>tweet_text</th>\n      <th>labeled_brand_or_product</th>\n      <th>detected_emotion</th>\n      <th>sentiment</th>\n    </tr>\n  </thead>\n  <tbody>\n    <tr>\n      <th>0</th>\n      <td>.@wesley83 I have a 3G iPhone. After 3 hrs twe...</td>\n      <td>iPhone</td>\n      <td>Negative emotion</td>\n      <td>Negative</td>\n    </tr>\n    <tr>\n      <th>1</th>\n      <td>@jessedee Know about @fludapp ? Awesome iPad/i...</td>\n      <td>iPad or iPhone App</td>\n      <td>Positive emotion</td>\n      <td>Positive</td>\n    </tr>\n  </tbody>\n</table>\n</div>"
     },
     "metadata": {},
     "execution_count": 38
    }
   ],
   "source": [
    "# Create the new sentiment column\n",
    "processed_data['sentiment'] = processed_data.apply(lambda row: get_sentiment(row['detected_emotion']), axis=1)\n",
    "processed_data.head(2)"
   ]
  },
  {
   "cell_type": "code",
   "execution_count": 39,
   "metadata": {
    "tags": []
   },
   "outputs": [
    {
     "output_type": "execute_result",
     "data": {
      "text/plain": [
       "                                             tweet_text  \\\n",
       "8719  Some Verizon iPhone customers complained their...   \n",
       "8720  �ϡ�����_��ʋ�΋�ҋ�������⋁_��������_���RT @mentio...   \n",
       "\n",
       "     labeled_brand_or_product                    detected_emotion sentiment  \\\n",
       "8719                  UNKNOWN  No emotion toward brand or product   Neutral   \n",
       "8720                  UNKNOWN  No emotion toward brand or product   Neutral   \n",
       "\n",
       "       brand  \n",
       "8719   Apple  \n",
       "8720  Google  "
      ],
      "text/html": "<div>\n<style scoped>\n    .dataframe tbody tr th:only-of-type {\n        vertical-align: middle;\n    }\n\n    .dataframe tbody tr th {\n        vertical-align: top;\n    }\n\n    .dataframe thead th {\n        text-align: right;\n    }\n</style>\n<table border=\"1\" class=\"dataframe\">\n  <thead>\n    <tr style=\"text-align: right;\">\n      <th></th>\n      <th>tweet_text</th>\n      <th>labeled_brand_or_product</th>\n      <th>detected_emotion</th>\n      <th>sentiment</th>\n      <th>brand</th>\n    </tr>\n  </thead>\n  <tbody>\n    <tr>\n      <th>8719</th>\n      <td>Some Verizon iPhone customers complained their...</td>\n      <td>UNKNOWN</td>\n      <td>No emotion toward brand or product</td>\n      <td>Neutral</td>\n      <td>Apple</td>\n    </tr>\n    <tr>\n      <th>8720</th>\n      <td>�ϡ�����_��ʋ�΋�ҋ�������⋁_��������_���RT @mentio...</td>\n      <td>UNKNOWN</td>\n      <td>No emotion toward brand or product</td>\n      <td>Neutral</td>\n      <td>Google</td>\n    </tr>\n  </tbody>\n</table>\n</div>"
     },
     "metadata": {},
     "execution_count": 39
    }
   ],
   "source": [
    "# Create the new brand column\n",
    "processed_data['brand'] = processed_data.apply(lambda row: get_brand(row['labeled_brand_or_product'], row['tweet_text']), axis=1)\n",
    "processed_data.tail(2)"
   ]
  },
  {
   "cell_type": "code",
   "execution_count": 40,
   "metadata": {
    "tags": []
   },
   "outputs": [
    {
     "output_type": "execute_result",
     "data": {
      "text/plain": [
       "                                          tweet_text labeled_brand_or_product  \\\n",
       "0  .@wesley83 I have a 3G iPhone. After 3 hrs twe...                   iPhone   \n",
       "1  @jessedee Know about @fludapp ? Awesome iPad/i...       iPad or iPhone App   \n",
       "\n",
       "   detected_emotion sentiment  brand  tweet_char_count  \n",
       "0  Negative emotion  Negative  Apple               127  \n",
       "1  Positive emotion  Positive  Apple               139  "
      ],
      "text/html": "<div>\n<style scoped>\n    .dataframe tbody tr th:only-of-type {\n        vertical-align: middle;\n    }\n\n    .dataframe tbody tr th {\n        vertical-align: top;\n    }\n\n    .dataframe thead th {\n        text-align: right;\n    }\n</style>\n<table border=\"1\" class=\"dataframe\">\n  <thead>\n    <tr style=\"text-align: right;\">\n      <th></th>\n      <th>tweet_text</th>\n      <th>labeled_brand_or_product</th>\n      <th>detected_emotion</th>\n      <th>sentiment</th>\n      <th>brand</th>\n      <th>tweet_char_count</th>\n    </tr>\n  </thead>\n  <tbody>\n    <tr>\n      <th>0</th>\n      <td>.@wesley83 I have a 3G iPhone. After 3 hrs twe...</td>\n      <td>iPhone</td>\n      <td>Negative emotion</td>\n      <td>Negative</td>\n      <td>Apple</td>\n      <td>127</td>\n    </tr>\n    <tr>\n      <th>1</th>\n      <td>@jessedee Know about @fludapp ? Awesome iPad/i...</td>\n      <td>iPad or iPhone App</td>\n      <td>Positive emotion</td>\n      <td>Positive</td>\n      <td>Apple</td>\n      <td>139</td>\n    </tr>\n  </tbody>\n</table>\n</div>"
     },
     "metadata": {},
     "execution_count": 40
    }
   ],
   "source": [
    "processed_data['tweet_char_count'] = processed_data.apply(lambda row: get_tweet_char_count(row['tweet_text']), axis=1)\n",
    "processed_data.head(2)"
   ]
  },
  {
   "cell_type": "code",
   "execution_count": 41,
   "metadata": {},
   "outputs": [],
   "source": [
    "# Save the processed data to files \n",
    "# ALL tweets\n",
    "processed_data.to_csv('../data/cleaned_tweets_all.csv', index_label='id')\n",
    "# Positive tweets\n",
    "processed_data[processed_data['sentiment'] == 'Positive'].to_csv('../data/cleaned_tweets_positive.csv', index_label='id')\n",
    "# Negative tweets\n",
    "processed_data[processed_data['sentiment'] == 'Negative'].to_csv('../data/cleaned_tweets_negative.csv', index_label='id')\n",
    "# Neutral tweets\n",
    "processed_data[processed_data['sentiment'] == 'Neutral'].to_csv('../data/cleaned_tweets_neutral.csv', index_label='id')"
   ]
  },
  {
   "cell_type": "code",
   "execution_count": null,
   "metadata": {},
   "outputs": [],
   "source": []
  },
  {
   "cell_type": "code",
   "execution_count": null,
   "metadata": {},
   "outputs": [],
   "source": []
  }
 ]
}